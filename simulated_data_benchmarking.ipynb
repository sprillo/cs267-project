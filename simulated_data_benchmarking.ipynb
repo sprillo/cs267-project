{
 "metadata": {
  "language_info": {
   "codemirror_mode": {
    "name": "ipython",
    "version": 3
   },
   "file_extension": ".py",
   "mimetype": "text/x-python",
   "name": "python",
   "nbconvert_exporter": "python",
   "pygments_lexer": "ipython3",
   "version": "3.8.13-final"
  },
  "orig_nbformat": 2,
  "kernelspec": {
   "name": "python3",
   "display_name": "Python 3 (ipykernel)",
   "language": "python"
  }
 },
 "nbformat": 4,
 "nbformat_minor": 2,
 "cells": [
  {
   "source": [
    "# Part 1: Determine what families to use for simulation. We want then to have roughly the same size, such that effective sample size and number of families are closely related."
   ],
   "cell_type": "markdown",
   "metadata": {}
  },
  {
   "cell_type": "code",
   "execution_count": 1,
   "metadata": {},
   "outputs": [
    {
     "output_type": "stream",
     "name": "stdout",
     "text": [
      "[2022-04-30 00:04:47,302] - caching - INFO - Setting cache directory to: _cache\n"
     ]
    }
   ],
   "source": [
    "from src.benchmarking.simulated_data_benchmarking import get_family_sizes, get_families_within_cutoff, fig_family_sizes\n",
    "from src.caching import set_cache_dir, set_use_hash\n",
    "from src.utils import get_amino_acids\n",
    "from src.phylogeny_estimation import fast_tree\n",
    "from src.benchmarking.simulated_data_benchmarking import create_trivial_contact_maps, get_families, subset_msa_to_leaf_nodes\n",
    "from src.simulation import simulate_msas\n",
    "from src.counting import count_transitions\n",
    "from src.estimation import jtt_ipw, quantized_transitions_mle\n",
    "\n",
    "MSA_DIR = \"/export/home/users/sprillo/Git/Phylo-correction/cs267_data/msas_1024_seqs_None_sites_LG_FastTree.txt-d15ceeb4_RM_20_cats/\"\n",
    "LG_PATH = \"./data/rate_matrices/lg.txt\"\n",
    "LG_STATIONARY_PATH = \"./data/rate_matrices/lg_stationary.txt\"\n",
    "LG_X_LG_PATH = \"./data/rate_matrices/lg_x_lg.txt\"\n",
    "LG_X_LG_STATIONARY_PATH = \"./data/rate_matrices/lg_x_lg_stationary.txt\"\n",
    "EQU_PATH = \"./data/rate_matrices/equ.txt\"\n",
    "\n",
    "set_cache_dir(\"_cache\")"
   ]
  },
  {
   "cell_type": "code",
   "execution_count": 2,
   "metadata": {},
   "outputs": [],
   "source": [
    "# fig_family_sizes(\n",
    "#     msa_dir=MSA_DIR,\n",
    "# )"
   ]
  },
  {
   "cell_type": "code",
   "execution_count": 3,
   "metadata": {},
   "outputs": [],
   "source": [
    "families = get_families_within_cutoff(\n",
    "    msa_dir=MSA_DIR,\n",
    "    min_num_sites=195,\n",
    "    max_num_sites=225,\n",
    "    min_num_sequences=1024,\n",
    "    max_num_sequences=1024,\n",
    ")\n",
    "families = sorted(families)[:32]"
   ]
  },
  {
   "cell_type": "code",
   "execution_count": 4,
   "metadata": {
    "tags": []
   },
   "outputs": [],
   "source": [
    "fast_tree_output_dirs = fast_tree(\n",
    "    msa_dir=MSA_DIR,\n",
    "    families=families,\n",
    "    rate_matrix_path=LG_PATH,\n",
    "    num_rate_categories=20,\n",
    "    num_processes=32,\n",
    ")"
   ]
  },
  {
   "cell_type": "code",
   "execution_count": 5,
   "metadata": {},
   "outputs": [],
   "source": [
    "trivial_contact_map_dir = create_trivial_contact_maps(\n",
    "    msa_dir=MSA_DIR,\n",
    "    families=families,\n",
    "    states=get_amino_acids(),\n",
    ")[\"output_contact_map_dir\"]"
   ]
  },
  {
   "cell_type": "code",
   "execution_count": 6,
   "metadata": {},
   "outputs": [],
   "source": [
    "simulated_msa_dir = simulate_msas(\n",
    "    tree_dir=fast_tree_output_dirs['output_tree_dir'],\n",
    "    site_rates_dir=fast_tree_output_dirs['output_site_rates_dir'],\n",
    "    contact_map_dir=trivial_contact_map_dir,\n",
    "    families=families,\n",
    "    amino_acids=get_amino_acids(),\n",
    "    pi_1_path=LG_STATIONARY_PATH,\n",
    "    Q_1_path=LG_PATH,\n",
    "    pi_2_path=LG_X_LG_STATIONARY_PATH,\n",
    "    Q_2_path=LG_X_LG_PATH,\n",
    "    strategy=\"all_transitions\",\n",
    "    random_seed=0,\n",
    "    num_processes=32,\n",
    "    use_cpp_implementation=False,\n",
    ")[\"output_msa_dir\"]"
   ]
  },
  {
   "cell_type": "code",
   "execution_count": 7,
   "metadata": {},
   "outputs": [],
   "source": [
    "quantization_points = [(\"%.5f\" % (0.06 * 1.1 ** i)) for i in range(-50, 51, 1)]\n",
    "\n",
    "count_matrices__edge_gt__dir = count_transitions(\n",
    "    tree_dir=fast_tree_output_dirs['output_tree_dir'],\n",
    "    msa_dir=simulated_msa_dir,\n",
    "    site_rates_dir=fast_tree_output_dirs['output_site_rates_dir'],\n",
    "    families=families,\n",
    "    amino_acids=get_amino_acids(),\n",
    "    quantization_points=quantization_points,\n",
    "    edge_or_cherry=\"edge\",\n",
    "    num_processes=32,\n",
    "    use_cpp_implementation=False,\n",
    ")[\"output_count_matrices_dir\"]"
   ]
  },
  {
   "cell_type": "code",
   "execution_count": 8,
   "metadata": {},
   "outputs": [],
   "source": [
    "jtt_ipw__edge_gt__dir = jtt_ipw(\n",
    "    count_matrices_path=os.path.join(count_matrices__edge_gt__dir, \"result.txt\"),\n",
    "    mask_path=None,\n",
    "    use_ipw=True,\n",
    "    normalize=False,\n",
    ")[\"output_rate_matrix_dir\"]"
   ]
  },
  {
   "cell_type": "code",
   "execution_count": 9,
   "metadata": {},
   "outputs": [
    {
     "output_type": "stream",
     "name": "stdout",
     "text": [
      "_cache/quantized_transitions_mle/88fd9472dc6fcb4a7e534743686cbe52605c45855dce0265c23b0d69e44bc353a3258b912a2214c343dad5cc7239309ddd4651abc112c5c629c3ed73c9f5f728/output_rate_matrix_dir\n"
     ]
    }
   ],
   "source": [
    "rate_matrix__edge_gt__dir = quantized_transitions_mle(\n",
    "    count_matrices_path=os.path.join(count_matrices__edge_gt__dir, \"result.txt\"),\n",
    "    initialization_path=os.path.join(jtt_ipw__edge_gt__dir, \"result.txt\"),\n",
    "    mask_path=None,\n",
    "    stationary_distribution_path=None,\n",
    "    rate_matrix_parameterization=\"pande_reversible\",\n",
    "    device=\"cpu\",\n",
    "    learning_rate=1e-1,\n",
    "    num_epochs=200,\n",
    "    do_adam=True,\n",
    ")[\"output_rate_matrix_dir\"]\n",
    "print(rate_matrix__edge_gt__dir)"
   ]
  },
  {
   "cell_type": "code",
   "execution_count": 10,
   "metadata": {},
   "outputs": [],
   "source": [
    "count_matrices__cherry_gt__dir = count_transitions(\n",
    "    tree_dir=fast_tree_output_dirs['output_tree_dir'],\n",
    "    msa_dir=simulated_msa_dir,\n",
    "    site_rates_dir=fast_tree_output_dirs['output_site_rates_dir'],\n",
    "    families=families,\n",
    "    amino_acids=get_amino_acids(),\n",
    "    quantization_points=quantization_points,\n",
    "    edge_or_cherry=\"cherry\",\n",
    "    num_processes=32,\n",
    "    use_cpp_implementation=False,\n",
    ")[\"output_count_matrices_dir\"]"
   ]
  },
  {
   "cell_type": "code",
   "execution_count": 11,
   "metadata": {},
   "outputs": [],
   "source": [
    "jtt_ipw__cherry_gt__dir = jtt_ipw(\n",
    "    count_matrices_path=os.path.join(count_matrices__cherry_gt__dir, \"result.txt\"),\n",
    "    mask_path=None,\n",
    "    use_ipw=True,\n",
    "    normalize=False,\n",
    ")[\"output_rate_matrix_dir\"]"
   ]
  },
  {
   "cell_type": "code",
   "execution_count": 12,
   "metadata": {},
   "outputs": [
    {
     "output_type": "stream",
     "name": "stdout",
     "text": [
      "_cache/quantized_transitions_mle/6e411016a15f9e5c38dd73eb69ea1cdb8ddf57e3cbe479c6f2d68a4e76cccfef61d131a4da2b98fae77bdd3162d10e114d376e0fa9aeada5e9dd30caf18bb069/output_rate_matrix_dir\n"
     ]
    }
   ],
   "source": [
    "rate_matrix__cherry_gt__dir = quantized_transitions_mle(\n",
    "    count_matrices_path=os.path.join(count_matrices__cherry_gt__dir, \"result.txt\"),\n",
    "    initialization_path=os.path.join(jtt_ipw__cherry_gt__dir, \"result.txt\"),\n",
    "    mask_path=None,\n",
    "    stationary_distribution_path=None,\n",
    "    rate_matrix_parameterization=\"pande_reversible\",\n",
    "    device=\"cpu\",\n",
    "    learning_rate=1e-1,\n",
    "    num_epochs=200,\n",
    "    do_adam=True,\n",
    ")[\"output_rate_matrix_dir\"]\n",
    "print(rate_matrix__cherry_gt__dir)"
   ]
  },
  {
   "cell_type": "code",
   "execution_count": 16,
   "metadata": {},
   "outputs": [
    {
     "output_type": "stream",
     "name": "stdout",
     "text": [
      "_cache/subset_msa_to_leaf_nodes/6891acc81ed49a07cee1ebeca7ae2d8ae1999b07c17b8b0d6ee7ac4f4b43fb6cb32805203b90942f60931ebe75bf18f2f6095c8458aa0a0f491efc9d384b4e2d/output_msa_dir\n"
     ]
    }
   ],
   "source": [
    "simulated_msa_leaves_dir = subset_msa_to_leaf_nodes(\n",
    "    msa_dir=simulated_msa_dir,\n",
    "    families=families,\n",
    "    states=get_amino_acids(),\n",
    ")[\"output_msa_dir\"]\n",
    "print(simulated_msa_leaves_dir)"
   ]
  },
  {
   "cell_type": "code",
   "execution_count": 15,
   "metadata": {},
   "outputs": [
    {
     "output_type": "stream",
     "name": "stderr",
     "text": [
      "  0%|          | 0/32 [00:00<?, ?it/s]\n"
     ]
    },
    {
     "output_type": "error",
     "ename": "TypeError",
     "evalue": "expected str, bytes or os.PathLike object, not dict",
     "traceback": [
      "\u001b[0;31m---------------------------------------------------------------------------\u001b[0m",
      "\u001b[0;31mRemoteTraceback\u001b[0m                           Traceback (most recent call last)",
      "\u001b[0;31mRemoteTraceback\u001b[0m: \n\"\"\"\nTraceback (most recent call last):\n  File \"/export/home/users/sprillo/miniconda3/envs/phylo_correction/lib/python3.7/multiprocessing/pool.py\", line 121, in worker\n    result = (True, func(*args, **kwds))\n  File \"/export/home/users/sprillo/Git/cs267-project/src/phylogeny_estimation/_fast_tree.py\", line 228, in _map_func\n    msa_path = os.path.join(msa_dir, family + \".txt\")\n  File \"/export/home/users/sprillo/miniconda3/envs/phylo_correction/lib/python3.7/posixpath.py\", line 80, in join\n    a = os.fspath(a)\nTypeError: expected str, bytes or os.PathLike object, not dict\n\"\"\"",
      "\nThe above exception was the direct cause of the following exception:\n",
      "\u001b[0;31mTypeError\u001b[0m                                 Traceback (most recent call last)",
      "\u001b[0;32m/tmp/ipykernel_24305/192232698.py\u001b[0m in \u001b[0;36m<module>\u001b[0;34m\u001b[0m\n\u001b[1;32m      4\u001b[0m     \u001b[0mrate_matrix_path\u001b[0m\u001b[0;34m=\u001b[0m\u001b[0mEQU_PATH\u001b[0m\u001b[0;34m,\u001b[0m\u001b[0;34m\u001b[0m\u001b[0;34m\u001b[0m\u001b[0m\n\u001b[1;32m      5\u001b[0m     \u001b[0mnum_rate_categories\u001b[0m\u001b[0;34m=\u001b[0m\u001b[0;36m20\u001b[0m\u001b[0;34m,\u001b[0m\u001b[0;34m\u001b[0m\u001b[0;34m\u001b[0m\u001b[0m\n\u001b[0;32m----> 6\u001b[0;31m     \u001b[0mnum_processes\u001b[0m\u001b[0;34m=\u001b[0m\u001b[0;36m32\u001b[0m\u001b[0;34m,\u001b[0m\u001b[0;34m\u001b[0m\u001b[0;34m\u001b[0m\u001b[0m\n\u001b[0m\u001b[1;32m      7\u001b[0m )\n",
      "\u001b[0;32m~/Git/cs267-project/src/caching/_cached_parallel_computation.py\u001b[0m in \u001b[0;36mwrapper\u001b[0;34m(*args, **kwargs)\u001b[0m\n\u001b[1;32m    396\u001b[0m                 \u001b[0;31m# Now call the wrapped function\u001b[0m\u001b[0;34m\u001b[0m\u001b[0;34m\u001b[0m\u001b[0;34m\u001b[0m\u001b[0m\n\u001b[1;32m    397\u001b[0m                 \u001b[0mlogger\u001b[0m\u001b[0;34m.\u001b[0m\u001b[0mdebug\u001b[0m\u001b[0;34m(\u001b[0m\u001b[0;34mf\"Calling {func.__name__}\"\u001b[0m\u001b[0;34m)\u001b[0m\u001b[0;34m\u001b[0m\u001b[0;34m\u001b[0m\u001b[0m\n\u001b[0;32m--> 398\u001b[0;31m                 \u001b[0mfunc\u001b[0m\u001b[0;34m(\u001b[0m\u001b[0;34m*\u001b[0m\u001b[0margs\u001b[0m\u001b[0;34m,\u001b[0m \u001b[0;34m**\u001b[0m\u001b[0mkwargs\u001b[0m\u001b[0;34m)\u001b[0m\u001b[0;34m\u001b[0m\u001b[0;34m\u001b[0m\u001b[0m\n\u001b[0m\u001b[1;32m    399\u001b[0m \u001b[0;34m\u001b[0m\u001b[0m\n\u001b[1;32m    400\u001b[0m                 \u001b[0;31m# Now verify that all outputs are there.\u001b[0m\u001b[0;34m\u001b[0m\u001b[0;34m\u001b[0m\u001b[0;34m\u001b[0m\u001b[0m\n",
      "\u001b[0;32m~/Git/cs267-project/src/phylogeny_estimation/_fast_tree.py\u001b[0m in \u001b[0;36mfast_tree\u001b[0;34m(msa_dir, families, rate_matrix_path, num_rate_categories, output_tree_dir, output_site_rates_dir, num_processes)\u001b[0m\n\u001b[1;32m    290\u001b[0m     \u001b[0;32mif\u001b[0m \u001b[0mnum_processes\u001b[0m \u001b[0;34m>\u001b[0m \u001b[0;36m1\u001b[0m\u001b[0;34m:\u001b[0m\u001b[0;34m\u001b[0m\u001b[0;34m\u001b[0m\u001b[0m\n\u001b[1;32m    291\u001b[0m         \u001b[0;32mwith\u001b[0m \u001b[0mmultiprocessing\u001b[0m\u001b[0;34m.\u001b[0m\u001b[0mPool\u001b[0m\u001b[0;34m(\u001b[0m\u001b[0mnum_processes\u001b[0m\u001b[0;34m)\u001b[0m \u001b[0;32mas\u001b[0m \u001b[0mpool\u001b[0m\u001b[0;34m:\u001b[0m\u001b[0;34m\u001b[0m\u001b[0;34m\u001b[0m\u001b[0m\n\u001b[0;32m--> 292\u001b[0;31m             \u001b[0mlist\u001b[0m\u001b[0;34m(\u001b[0m\u001b[0mtqdm\u001b[0m\u001b[0;34m.\u001b[0m\u001b[0mtqdm\u001b[0m\u001b[0;34m(\u001b[0m\u001b[0mpool\u001b[0m\u001b[0;34m.\u001b[0m\u001b[0mimap\u001b[0m\u001b[0;34m(\u001b[0m\u001b[0m_map_func\u001b[0m\u001b[0;34m,\u001b[0m \u001b[0mmap_args\u001b[0m\u001b[0;34m)\u001b[0m\u001b[0;34m,\u001b[0m \u001b[0mtotal\u001b[0m\u001b[0;34m=\u001b[0m\u001b[0mlen\u001b[0m\u001b[0;34m(\u001b[0m\u001b[0mmap_args\u001b[0m\u001b[0;34m)\u001b[0m\u001b[0;34m)\u001b[0m\u001b[0;34m)\u001b[0m\u001b[0;34m\u001b[0m\u001b[0;34m\u001b[0m\u001b[0m\n\u001b[0m\u001b[1;32m    293\u001b[0m     \u001b[0;32melse\u001b[0m\u001b[0;34m:\u001b[0m\u001b[0;34m\u001b[0m\u001b[0;34m\u001b[0m\u001b[0m\n\u001b[1;32m    294\u001b[0m         \u001b[0mlist\u001b[0m\u001b[0;34m(\u001b[0m\u001b[0mtqdm\u001b[0m\u001b[0;34m.\u001b[0m\u001b[0mtqdm\u001b[0m\u001b[0;34m(\u001b[0m\u001b[0mmap\u001b[0m\u001b[0;34m(\u001b[0m\u001b[0m_map_func\u001b[0m\u001b[0;34m,\u001b[0m \u001b[0mmap_args\u001b[0m\u001b[0;34m)\u001b[0m\u001b[0;34m,\u001b[0m \u001b[0mtotal\u001b[0m\u001b[0;34m=\u001b[0m\u001b[0mlen\u001b[0m\u001b[0;34m(\u001b[0m\u001b[0mmap_args\u001b[0m\u001b[0;34m)\u001b[0m\u001b[0;34m)\u001b[0m\u001b[0;34m)\u001b[0m\u001b[0;34m\u001b[0m\u001b[0;34m\u001b[0m\u001b[0m\n",
      "\u001b[0;32m~/miniconda3/envs/phylo_correction/lib/python3.7/site-packages/tqdm/std.py\u001b[0m in \u001b[0;36m__iter__\u001b[0;34m(self)\u001b[0m\n\u001b[1;32m   1178\u001b[0m \u001b[0;34m\u001b[0m\u001b[0m\n\u001b[1;32m   1179\u001b[0m         \u001b[0;32mtry\u001b[0m\u001b[0;34m:\u001b[0m\u001b[0;34m\u001b[0m\u001b[0;34m\u001b[0m\u001b[0m\n\u001b[0;32m-> 1180\u001b[0;31m             \u001b[0;32mfor\u001b[0m \u001b[0mobj\u001b[0m \u001b[0;32min\u001b[0m \u001b[0miterable\u001b[0m\u001b[0;34m:\u001b[0m\u001b[0;34m\u001b[0m\u001b[0;34m\u001b[0m\u001b[0m\n\u001b[0m\u001b[1;32m   1181\u001b[0m                 \u001b[0;32myield\u001b[0m \u001b[0mobj\u001b[0m\u001b[0;34m\u001b[0m\u001b[0;34m\u001b[0m\u001b[0m\n\u001b[1;32m   1182\u001b[0m                 \u001b[0;31m# Update and possibly print the progressbar.\u001b[0m\u001b[0;34m\u001b[0m\u001b[0;34m\u001b[0m\u001b[0;34m\u001b[0m\u001b[0m\n",
      "\u001b[0;32m~/miniconda3/envs/phylo_correction/lib/python3.7/multiprocessing/pool.py\u001b[0m in \u001b[0;36mnext\u001b[0;34m(self, timeout)\u001b[0m\n\u001b[1;32m    746\u001b[0m         \u001b[0;32mif\u001b[0m \u001b[0msuccess\u001b[0m\u001b[0;34m:\u001b[0m\u001b[0;34m\u001b[0m\u001b[0;34m\u001b[0m\u001b[0m\n\u001b[1;32m    747\u001b[0m             \u001b[0;32mreturn\u001b[0m \u001b[0mvalue\u001b[0m\u001b[0;34m\u001b[0m\u001b[0;34m\u001b[0m\u001b[0m\n\u001b[0;32m--> 748\u001b[0;31m         \u001b[0;32mraise\u001b[0m \u001b[0mvalue\u001b[0m\u001b[0;34m\u001b[0m\u001b[0;34m\u001b[0m\u001b[0m\n\u001b[0m\u001b[1;32m    749\u001b[0m \u001b[0;34m\u001b[0m\u001b[0m\n\u001b[1;32m    750\u001b[0m     \u001b[0m__next__\u001b[0m \u001b[0;34m=\u001b[0m \u001b[0mnext\u001b[0m                    \u001b[0;31m# XXX\u001b[0m\u001b[0;34m\u001b[0m\u001b[0;34m\u001b[0m\u001b[0m\n",
      "\u001b[0;31mTypeError\u001b[0m: expected str, bytes or os.PathLike object, not dict"
     ]
    }
   ],
   "source": [
    "fast_tree_output__simulation_iter_1__dirs = fast_tree(\n",
    "    msa_dir=simulated_msa_leaves_dir,\n",
    "    families=families,\n",
    "    rate_matrix_path=EQU_PATH,\n",
    "    num_rate_categories=20,\n",
    "    num_processes=32,\n",
    ")"
   ]
  },
  {
   "cell_type": "code",
   "execution_count": null,
   "metadata": {},
   "outputs": [],
   "source": [
    "count_matrices__cherry_iter_1__dir = count_transitions(\n",
    "    tree_dir=fast_tree_output__simulation_iter_1__dirs['output_tree_dir'],\n",
    "    msa_dir=simulated_msa_leaves_dir,\n",
    "    site_rates_dir=fast_tree_output__simulation_iter_1__dirs['output_site_rates_dir'],\n",
    "    families=families,\n",
    "    amino_acids=get_amino_acids(),\n",
    "    quantization_points=quantization_points,\n",
    "    edge_or_cherry=\"cherry\",\n",
    "    num_processes=32,\n",
    "    use_cpp_implementation=False,\n",
    ")[\"output_count_matrices_dir\"]\n",
    "print(count_matrices__cherry_iter_1__dir)\n"
   ]
  },
  {
   "cell_type": "code",
   "execution_count": null,
   "metadata": {},
   "outputs": [],
   "source": [
    "jtt_ipw__cherry_iter_1__dir = jtt_ipw(\n",
    "    count_matrices_path=os.path.join(count_matrices__cherry_iter_1__dir, \"result.txt\"),\n",
    "    mask_path=None,\n",
    "    use_ipw=True,\n",
    "    normalize=False,\n",
    ")[\"output_rate_matrix_dir\"]\n",
    "print(jtt_ipw__cherry_iter_1__dir)"
   ]
  },
  {
   "cell_type": "code",
   "execution_count": null,
   "metadata": {},
   "outputs": [],
   "source": [
    "rate_matrix__cherry_iter_1__dir = quantized_transitions_mle(\n",
    "    count_matrices_path=os.path.join(count_matrices__cherry_iter_1__dir, \"result.txt\"),\n",
    "    initialization_path=os.path.join(jtt_ipw__cherry_iter_1__dir, \"result.txt\"),\n",
    "    mask_path=None,\n",
    "    stationary_distribution_path=None,\n",
    "    rate_matrix_parameterization=\"pande_reversible\",\n",
    "    device=\"cpu\",\n",
    "    learning_rate=1e-1,\n",
    "    num_epochs=200,\n",
    "    do_adam=True,\n",
    ")[\"output_rate_matrix_dir\"]\n",
    "print(rate_matrix__cherry_iter_1__dir)"
   ]
  },
  {
   "cell_type": "code",
   "execution_count": null,
   "metadata": {},
   "outputs": [],
   "source": [
    "fast_tree_output__simulation_iter_2__dirs = fast_tree(\n",
    "    msa_dir=simulated_msa_leaves_dir,\n",
    "    families=families,\n",
    "    rate_matrix_path=os.path.join(rate_matrix__cherry_iter_1__dir, \"result.txt\"),\n",
    "    num_rate_categories=20,\n",
    "    num_processes=32,\n",
    ")"
   ]
  },
  {
   "cell_type": "code",
   "execution_count": null,
   "metadata": {},
   "outputs": [],
   "source": [
    "count_matrices__cherry_iter_2__dir = count_transitions(\n",
    "    tree_dir=fast_tree_output__simulation_iter_2__dirs['output_tree_dir'],\n",
    "    msa_dir=simulated_msa_dir,\n",
    "    site_rates_dir=fast_tree_output__simulation_iter_2__dirs['output_site_rates_dir'],\n",
    "    families=families,\n",
    "    amino_acids=get_amino_acids(),\n",
    "    quantization_points=quantization_points,\n",
    "    edge_or_cherry=\"cherry\",\n",
    "    num_processes=32,\n",
    "    use_cpp_implementation=False,\n",
    ")[\"output_count_matrices_dir\"]\n",
    "print(count_matrices__cherry_iter_2__dir)\n"
   ]
  },
  {
   "cell_type": "code",
   "execution_count": null,
   "metadata": {},
   "outputs": [],
   "source": [
    "jtt_ipw__cherry_iter_2__dir = jtt_ipw(\n",
    "    count_matrices_path=os.path.join(count_matrices__cherry_iter_2__dir, \"result.txt\"),\n",
    "    mask_path=None,\n",
    "    use_ipw=True,\n",
    "    normalize=False,\n",
    ")[\"output_rate_matrix_dir\"]\n",
    "print(jtt_ipw__cherry_iter_2__dir)"
   ]
  },
  {
   "cell_type": "code",
   "execution_count": null,
   "metadata": {},
   "outputs": [],
   "source": [
    "rate_matrix__cherry_iter_2__dir = quantized_transitions_mle(\n",
    "    count_matrices_path=os.path.join(count_matrices__cherry_iter_2__dir, \"result.txt\"),\n",
    "    initialization_path=os.path.join(jtt_ipw__cherry_iter_2__dir, \"result.txt\"),\n",
    "    mask_path=None,\n",
    "    stationary_distribution_path=None,\n",
    "    rate_matrix_parameterization=\"pande_reversible\",\n",
    "    device=\"cpu\",\n",
    "    learning_rate=1e-1,\n",
    "    num_epochs=200,\n",
    "    do_adam=True,\n",
    ")[\"output_rate_matrix_dir\"]\n",
    "print(rate_matrix__cherry_iter_2__dir)"
   ]
  },
  {
   "cell_type": "code",
   "execution_count": null,
   "metadata": {},
   "outputs": [],
   "source": [
    "fast_tree_output__simulation_iter_3__dirs = fast_tree(\n",
    "    msa_dir=simulated_msa_dir,\n",
    "    families=families,\n",
    "    rate_matrix_path=os.path.join(rate_matrix__cherry_iter_2__dir, \"result.txt\"),\n",
    "    num_rate_categories=20,\n",
    "    num_processes=32,\n",
    ")"
   ]
  },
  {
   "cell_type": "code",
   "execution_count": null,
   "metadata": {},
   "outputs": [],
   "source": [
    "count_matrices__cherry_iter_3__dir = count_transitions(\n",
    "    tree_dir=fast_tree_output__simulation_iter_3__dirs['output_tree_dir'],\n",
    "    msa_dir=simulated_msa_dir,\n",
    "    site_rates_dir=fast_tree_output__simulation_iter_3__dirs['output_site_rates_dir'],\n",
    "    families=families,\n",
    "    amino_acids=get_amino_acids(),\n",
    "    quantization_points=quantization_points,\n",
    "    edge_or_cherry=\"cherry\",\n",
    "    num_processes=32,\n",
    "    use_cpp_implementation=False,\n",
    ")[\"output_count_matrices_dir\"]\n",
    "print(count_matrices__cherry_iter_3__dir)\n"
   ]
  },
  {
   "cell_type": "code",
   "execution_count": null,
   "metadata": {},
   "outputs": [],
   "source": [
    "jtt_ipw__cherry_iter_3__dir = jtt_ipw(\n",
    "    count_matrices_path=os.path.join(count_matrices__cherry_iter_3__dir, \"result.txt\"),\n",
    "    mask_path=None,\n",
    "    use_ipw=True,\n",
    "    normalize=False,\n",
    ")[\"output_rate_matrix_dir\"]\n",
    "print(jtt_ipw__cherry_iter_3__dir)"
   ]
  },
  {
   "cell_type": "code",
   "execution_count": null,
   "metadata": {},
   "outputs": [],
   "source": [
    "rate_matrix__cherry_iter_3__dir = quantized_transitions_mle(\n",
    "    count_matrices_path=os.path.join(count_matrices__cherry_iter_3__dir, \"result.txt\"),\n",
    "    initialization_path=os.path.join(jtt_ipw__cherry_iter_3__dir, \"result.txt\"),\n",
    "    mask_path=None,\n",
    "    stationary_distribution_path=None,\n",
    "    rate_matrix_parameterization=\"pande_reversible\",\n",
    "    device=\"cpu\",\n",
    "    learning_rate=1e-1,\n",
    "    num_epochs=200,\n",
    "    do_adam=True,\n",
    ")[\"output_rate_matrix_dir\"]\n",
    "print(rate_matrix__cherry_iter_3__dir)"
   ]
  },
  {
   "cell_type": "code",
   "execution_count": null,
   "metadata": {},
   "outputs": [],
   "source": [
    "fast_tree_output__simulation_iter_oracle__dirs = fast_tree(\n",
    "    msa_dir=simulated_msa_dir,\n",
    "    families=families,\n",
    "    rate_matrix_path=LG_PATH,\n",
    "    num_rate_categories=20,\n",
    "    num_processes=32,\n",
    ")"
   ]
  },
  {
   "cell_type": "code",
   "execution_count": null,
   "metadata": {},
   "outputs": [],
   "source": [
    "count_matrices__cherry_iter_oracle__dir = count_transitions(\n",
    "    tree_dir=fast_tree_output__simulation_iter_oracle__dirs['output_tree_dir'],\n",
    "    msa_dir=simulated_msa_dir,\n",
    "    site_rates_dir=fast_tree_output__simulation_iter_oracle__dirs['output_site_rates_dir'],\n",
    "    families=families,\n",
    "    amino_acids=get_amino_acids(),\n",
    "    quantization_points=quantization_points,\n",
    "    edge_or_cherry=\"cherry\",\n",
    "    num_processes=32,\n",
    "    use_cpp_implementation=False,\n",
    ")[\"output_count_matrices_dir\"]\n",
    "print(count_matrices__cherry_iter_oracle__dir)\n"
   ]
  },
  {
   "cell_type": "code",
   "execution_count": null,
   "metadata": {},
   "outputs": [],
   "source": [
    "jtt_ipw__cherry_iter_oracle__dir = jtt_ipw(\n",
    "    count_matrices_path=os.path.join(count_matrices__cherry_iter_oracle__dir, \"result.txt\"),\n",
    "    mask_path=None,\n",
    "    use_ipw=True,\n",
    "    normalize=False,\n",
    ")[\"output_rate_matrix_dir\"]\n",
    "print(jtt_ipw__cherry_iter_oracle__dir)"
   ]
  },
  {
   "cell_type": "code",
   "execution_count": null,
   "metadata": {},
   "outputs": [],
   "source": [
    "rate_matrix__cherry_iter_oracle__dir = quantized_transitions_mle(\n",
    "    count_matrices_path=os.path.join(count_matrices__cherry_iter_oracle__dir, \"result.txt\"),\n",
    "    initialization_path=os.path.join(jtt_ipw__cherry_iter_oracle__dir, \"result.txt\"),\n",
    "    mask_path=None,\n",
    "    stationary_distribution_path=None,\n",
    "    rate_matrix_parameterization=\"pande_reversible\",\n",
    "    device=\"cpu\",\n",
    "    learning_rate=1e-1,\n",
    "    num_epochs=200,\n",
    "    do_adam=True,\n",
    ")[\"output_rate_matrix_dir\"]\n",
    "print(rate_matrix__cherry_iter_oracle__dir)"
   ]
  },
  {
   "cell_type": "code",
   "execution_count": null,
   "metadata": {},
   "outputs": [],
   "source": []
  }
 ]
}